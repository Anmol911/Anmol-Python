{
  "nbformat": 4,
  "nbformat_minor": 0,
  "metadata": {
    "colab": {
      "provenance": [],
      "collapsed_sections": []
    },
    "kernelspec": {
      "name": "python3",
      "display_name": "Python 3"
    },
    "language_info": {
      "name": "python"
    }
  },
  "cells": [
    {
      "cell_type": "code",
      "execution_count": null,
      "metadata": {
        "colab": {
          "base_uri": "https://localhost:8080/"
        },
        "id": "-TZFoFUdlIcQ",
        "outputId": "eb47078e-0734-47a3-c9b0-9086bc074160"
      },
      "outputs": [
        {
          "output_type": "execute_result",
          "data": {
            "text/plain": [
              "5"
            ]
          },
          "metadata": {},
          "execution_count": 1
        }
      ],
      "source": [
        "2+3"
      ]
    },
    {
      "cell_type": "code",
      "source": [
        "10-5\n"
      ],
      "metadata": {
        "colab": {
          "base_uri": "https://localhost:8080/"
        },
        "id": "3gLSDKpknGrM",
        "outputId": "954efa8e-fed5-435a-e50f-fdf37645423e"
      },
      "execution_count": null,
      "outputs": [
        {
          "output_type": "execute_result",
          "data": {
            "text/plain": [
              "5"
            ]
          },
          "metadata": {},
          "execution_count": 2
        }
      ]
    },
    {
      "cell_type": "code",
      "source": [
        "121*22"
      ],
      "metadata": {
        "colab": {
          "base_uri": "https://localhost:8080/"
        },
        "id": "gCUkc8xwnmRX",
        "outputId": "99ab2c69-d6b7-4175-9e6e-ed8bb5bb38d5"
      },
      "execution_count": null,
      "outputs": [
        {
          "output_type": "execute_result",
          "data": {
            "text/plain": [
              "2662"
            ]
          },
          "metadata": {},
          "execution_count": 3
        }
      ]
    },
    {
      "cell_type": "code",
      "source": [
        "12/2"
      ],
      "metadata": {
        "colab": {
          "base_uri": "https://localhost:8080/"
        },
        "id": "tLgW3lftnq5o",
        "outputId": "dfd05785-91bd-4f60-fbd4-5313a7ee8e2d"
      },
      "execution_count": null,
      "outputs": [
        {
          "output_type": "execute_result",
          "data": {
            "text/plain": [
              "6.0"
            ]
          },
          "metadata": {},
          "execution_count": 4
        }
      ]
    },
    {
      "cell_type": "code",
      "source": [
        "a=5\n",
        "print(a)\n",
        "    "
      ],
      "metadata": {
        "colab": {
          "base_uri": "https://localhost:8080/"
        },
        "id": "iVxz4V8Mpoyq",
        "outputId": "ae9f0557-61fe-4134-91eb-a606f29b00c1"
      },
      "execution_count": null,
      "outputs": [
        {
          "output_type": "stream",
          "name": "stdout",
          "text": [
            "5\n"
          ]
        }
      ]
    },
    {
      "cell_type": "code",
      "source": [
        "print(\"hello world\")"
      ],
      "metadata": {
        "colab": {
          "base_uri": "https://localhost:8080/"
        },
        "id": "jF-7pWaJp8N6",
        "outputId": "28a30f80-70e2-4ba8-d013-71f143aa38fd"
      },
      "execution_count": null,
      "outputs": [
        {
          "output_type": "stream",
          "name": "stdout",
          "text": [
            "hello world\n"
          ]
        }
      ]
    },
    {
      "cell_type": "code",
      "source": [
        "print('hello world')"
      ],
      "metadata": {
        "colab": {
          "base_uri": "https://localhost:8080/"
        },
        "id": "KAZ3wlNjqE6a",
        "outputId": "c20cf5b0-565f-4213-c6ea-6adf280c93f3"
      },
      "execution_count": null,
      "outputs": [
        {
          "output_type": "stream",
          "name": "stdout",
          "text": [
            "hello world\n"
          ]
        }
      ]
    },
    {
      "cell_type": "code",
      "source": [
        "print(\"display the variable a\",a)\n"
      ],
      "metadata": {
        "colab": {
          "base_uri": "https://localhost:8080/"
        },
        "id": "5kOtFXu1qSlG",
        "outputId": "6b40d4f2-f31a-44bd-a188-025c5e268826"
      },
      "execution_count": null,
      "outputs": [
        {
          "output_type": "stream",
          "name": "stdout",
          "text": [
            "display the variable a 5\n"
          ]
        }
      ]
    },
    {
      "cell_type": "code",
      "source": [
        "x=5\n",
        "y=10\n",
        "z=x+y\n",
        "print(z)\n",
        "print(\"addition of two numbers\",z)\n",
        "print(\"addition\",x,\"&\",y,\"sum is\",z)"
      ],
      "metadata": {
        "colab": {
          "base_uri": "https://localhost:8080/"
        },
        "id": "v1Ee-nGrq93X",
        "outputId": "5eecdc6e-ab9b-4e7a-b861-f07e1cc5b9f4"
      },
      "execution_count": null,
      "outputs": [
        {
          "output_type": "stream",
          "name": "stdout",
          "text": [
            "15\n",
            "addition of two numbers 15\n",
            "addition 5 & 10 sum is 15\n"
          ]
        }
      ]
    },
    {
      "cell_type": "code",
      "source": [],
      "metadata": {
        "id": "gbdYPzzby-Qe"
      },
      "execution_count": null,
      "outputs": []
    },
    {
      "cell_type": "code",
      "source": [
        "x=7\n",
        "y=14\n",
        "z=x*y\n",
        "print(z)\n",
        "print(\"multiplication of two numbers\",z)\n",
        "print(\"multiplication\",x,\"&\",y,\"sum is\",z)"
      ],
      "metadata": {
        "colab": {
          "base_uri": "https://localhost:8080/"
        },
        "id": "oTTm_zHxrPud",
        "outputId": "9d30a1b0-db8c-443c-b184-52cb7bfec297"
      },
      "execution_count": null,
      "outputs": [
        {
          "output_type": "stream",
          "name": "stdout",
          "text": [
            "98\n",
            "multiplication of two numbers 98\n",
            "multiplication 7 & 14 sum is 98\n"
          ]
        }
      ]
    },
    {
      "cell_type": "code",
      "source": [
        "x=87\n",
        "y=2\n",
        "z=x/y\n",
        "print(z)\n",
        "print(\"div of two numbers\",z)\n",
        "print(\"div\",x,\"&\",y,\"answer is\",z)"
      ],
      "metadata": {
        "colab": {
          "base_uri": "https://localhost:8080/"
        },
        "id": "1ggUvEq_taJz",
        "outputId": "27482b6e-62b1-4923-cefb-9c98b2d3e360"
      },
      "execution_count": null,
      "outputs": [
        {
          "output_type": "stream",
          "name": "stdout",
          "text": [
            "43.5\n",
            "div of two numbers 43.5\n",
            "div 87 & 2 sum is 43.5\n"
          ]
        }
      ]
    },
    {
      "cell_type": "code",
      "source": [
        "x=33\n",
        "y=21\n",
        "z=x-y\n",
        "print(z)\n",
        "print(\"sub of two numbers\",z)\n",
        "print(\"sub\",x,\"&\",y,\"answer is\",z)"
      ],
      "metadata": {
        "colab": {
          "base_uri": "https://localhost:8080/"
        },
        "id": "s_lDb5sgwla3",
        "outputId": "27f1d04f-8636-4326-f043-18922f37f34e"
      },
      "execution_count": null,
      "outputs": [
        {
          "output_type": "stream",
          "name": "stdout",
          "text": [
            "12\n",
            "sub of two numbers 12\n",
            "sub 33 & 21 answer is 12\n"
          ]
        }
      ]
    },
    {
      "cell_type": "code",
      "source": [
        "a=\"2+4\"\n",
        "print(a)\n",
        "\n"
      ],
      "metadata": {
        "colab": {
          "base_uri": "https://localhost:8080/"
        },
        "id": "hxkW8oGSy_NC",
        "outputId": "527bb8c3-466a-4bf8-f7b1-6006290d1636"
      },
      "execution_count": null,
      "outputs": [
        {
          "output_type": "stream",
          "name": "stdout",
          "text": [
            "2+4\n"
          ]
        }
      ]
    },
    {
      "cell_type": "code",
      "source": [
        "a1=\"hello\"\n",
        "a2=\"world\"\n",
        "print(a1,a2)"
      ],
      "metadata": {
        "colab": {
          "base_uri": "https://localhost:8080/"
        },
        "id": "6RNkWXJ1z0sU",
        "outputId": "e4ded1c7-02ba-4744-8b1f-84d1ebd36afd"
      },
      "execution_count": null,
      "outputs": [
        {
          "output_type": "stream",
          "name": "stdout",
          "text": [
            "hello world\n"
          ]
        }
      ]
    },
    {
      "cell_type": "code",
      "source": [
        "a=input(\"Enter The Name \")\n",
        "print(a)"
      ],
      "metadata": {
        "id": "8nyEq9Ssav0M",
        "colab": {
          "base_uri": "https://localhost:8080/"
        },
        "outputId": "ba5cae3d-117c-49aa-a78b-a40ba71a43b0"
      },
      "execution_count": null,
      "outputs": [
        {
          "output_type": "stream",
          "name": "stdout",
          "text": [
            "Enter The Name Anmol\n",
            "Anmol\n"
          ]
        }
      ]
    },
    {
      "cell_type": "code",
      "source": [
        "a=int(input(\"enter the number\"))\n",
        "b=int(input(\"enter your age\"))\n",
        "print(a)\n",
        "print(b)"
      ],
      "metadata": {
        "colab": {
          "base_uri": "https://localhost:8080/"
        },
        "id": "2Yg_I9gpsYFs",
        "outputId": "8a8a6e2b-833f-4397-d6a5-913b66c7dabe"
      },
      "execution_count": null,
      "outputs": [
        {
          "output_type": "stream",
          "name": "stdout",
          "text": [
            "enter the number 11\n",
            "enter your age  3\n",
            "11\n",
            "3\n"
          ]
        }
      ]
    },
    {
      "cell_type": "code",
      "source": [
        "x,y=input(\"enter the values\").split()\n",
        "input(\"enter the no: of boys\",x)\n",
        "input(\"enter the no: of girls\",y)"
      ],
      "metadata": {
        "id": "1LzssHj1tobM"
      },
      "execution_count": null,
      "outputs": []
    },
    {
      "cell_type": "code",
      "source": [
        "print(\"helo\")\n",
        "print(\"world\")\n",
        "print(\"I am studying in BCA\")"
      ],
      "metadata": {
        "id": "74SBKYhYyuPX",
        "colab": {
          "base_uri": "https://localhost:8080/"
        },
        "outputId": "8d5f2bab-3e1f-4f22-bf04-d31cac60a90a"
      },
      "execution_count": null,
      "outputs": [
        {
          "output_type": "stream",
          "name": "stdout",
          "text": [
            "helo\n",
            "world\n",
            "I am studying in BCA\n"
          ]
        }
      ]
    },
    {
      "cell_type": "code",
      "source": [
        "a=\"hello world\"\n",
        "print(a[0:4])\n",
        "print(a[2:7])\n",
        "print(a[2::2])    "
      ],
      "metadata": {
        "id": "ZUZYX2Nt4Lap",
        "colab": {
          "base_uri": "https://localhost:8080/"
        },
        "outputId": "450db323-f962-4df5-8e98-5a7bc6391e7b"
      },
      "execution_count": null,
      "outputs": [
        {
          "output_type": "stream",
          "name": "stdout",
          "text": [
            "hell\n",
            "llo w\n",
            "lowrd\n"
          ]
        }
      ]
    }
  ]
}